{
 "cells": [
  {
   "cell_type": "markdown",
   "metadata": {},
   "source": [
    "# Assignment 1\n",
    "\n",
    "* **The deadline for this assignment is due on 28 Mon, 10am.**\n",
    "* Create a new directory called `Assignment.1` in your **mp248** repository.\n",
    "* Refer to the **grading key** for guidance for what is expected. \n",
    "* Copy this notebook to the `Assignment.1` folder in your mp248 repository. \n",
    "* Answer Problems and 2 in the copy of this notebook in your mp248 repository. This notebook is a _bash_ notebook.\n",
    "* For Problem 3 & 4 create a Python 3 notebook with the name `Assignment-python.ipnb` and make sure that it is located in the `Assignment.1` folder in your `mp248` repository.\n",
    "* Make sure that you add this notebook, the `Assignment-python.ipnb` notebook and any other files indicated below to the final commit of your homework. It is advised that you start committing and pushing once you have partial results."
   ]
  },
  {
   "cell_type": "markdown",
   "metadata": {},
   "source": [
    "## Problem 1\n",
    "\n",
    "### 1.1\n",
    "In a bash cell below download the textfile from the following url: `http://www.textfiles.com/etext/AUTHORS/SHAKESPEARE/shakespeare-midsummer-16.txt` containing _SHAKESPEARE: A Midsummer Night's Dream_ using a shell command. \n",
    "\n",
    "Using the command line editor write a shell script called `shake_analysis.sh` that analyses the file and writes out one answer per line to the following questions:\n",
    "* How many lines contain the word _Lysander_? \n",
    "* How many lines contain the word _Lysander_ and the word _love_? (case sensitive search)\n",
    "* How many words are in the lines that contain the words _Lysander_ and the word _love_?\n",
    "* How large is the file `shakespeare-midsummer-16.txt` in `kB` (kilobyte)? The script should output only the integer number of kB.\n",
    "\n",
    "### 1.2\n",
    "Further add shell script code that generates the answers to the following questions\n",
    "* What is the 6th word in the line that contains both the words _passion_ and _dear_?\n",
    "* How long is that word?\n",
    "\n",
    "Finally, the script should create a file `midsummer_dad.txt` in which all instances of _EGEUS_ and _Egeus_ are replaced with _dad_, and then report the number of times 'dad' appears in `midsummer_dad.txt`.\n",
    "\n",
    "Add the script `shake_analysis.sh` and the file `midsummer_dad.txt` to the `Assignment.1` folder."
   ]
  },
  {
   "cell_type": "markdown",
   "metadata": {},
   "source": [
    "#### Solution"
   ]
  },
  {
   "cell_type": "code",
   "execution_count": 2,
   "metadata": {},
   "outputs": [
    {
     "name": "stdout",
     "output_type": "stream",
     "text": [
      "--2019-01-22 23:46:40--  http://www.textfiles.com/etext/AUTHORS/SHAKESPEARE/shakespeare-midsummer-16.txt\n",
      "Resolving www.textfiles.com (www.textfiles.com)... 208.86.224.90\n",
      "Connecting to www.textfiles.com (www.textfiles.com)|208.86.224.90|:80... connected.\n",
      "HTTP request sent, awaiting response... 200 OK\n",
      "Length: 96439 (94K) [text/plain]\n",
      "Saving to: 'shakespeare-midsummer-16.txt'\n",
      "\n",
      "shakespeare-midsumm 100%[===================>]  94.18K  49.6KB/s    in 1.9s    \n",
      "\n",
      "2019-01-22 23:46:42 (49.6 KB/s) - 'shakespeare-midsummer-16.txt' saved [96439/96439]\n",
      "\n"
     ]
    }
   ],
   "source": [
    "wget http://www.textfiles.com/etext/AUTHORS/SHAKESPEARE/shakespeare-midsummer-16.txt"
   ]
  },
  {
   "cell_type": "code",
   "execution_count": 3,
   "metadata": {},
   "outputs": [
    {
     "name": "stdout",
     "output_type": "stream",
     "text": [
      "40\n"
     ]
    }
   ],
   "source": [
    "grep 'Lysander' shakespeare-midsummer-16.txt | wc -l"
   ]
  },
  {
   "cell_type": "code",
   "execution_count": 4,
   "metadata": {},
   "outputs": [
    {
     "name": "stdout",
     "output_type": "stream",
     "text": [
      "4\n"
     ]
    }
   ],
   "source": [
    "grep 'Lysander' shakespeare-midsummer-16.txt|grep 'love'| wc -l"
   ]
  },
  {
   "cell_type": "code",
   "execution_count": 17,
   "metadata": {},
   "outputs": [
    {
     "name": "stdout",
     "output_type": "stream",
     "text": [
      "34\n"
     ]
    }
   ],
   "source": [
    "grep 'Lysander' shakespeare-midsummer-16.txt|grep 'love'| wc -w"
   ]
  },
  {
   "cell_type": "code",
   "execution_count": 6,
   "metadata": {},
   "outputs": [
    {
     "name": "stdout",
     "output_type": "stream",
     "text": [
      "100K\tshakespeare-midsummer-16.txt\n"
     ]
    }
   ],
   "source": [
    "du -sh shakespeare-midsummer-16.txt"
   ]
  },
  {
   "cell_type": "code",
   "execution_count": 8,
   "metadata": {},
   "outputs": [
    {
     "name": "stdout",
     "output_type": "stream",
     "text": [
      "death\n"
     ]
    }
   ],
   "source": [
    "grep 'passion' shakespeare-midsummer-16.txt|grep 'dear'| cut -d' ' -f5"
   ]
  },
  {
   "cell_type": "code",
   "execution_count": 15,
   "metadata": {},
   "outputs": [
    {
     "name": "stdout",
     "output_type": "stream",
     "text": [
      "6\n"
     ]
    }
   ],
   "source": [
    "grep 'passion' shakespeare-midsummer-16.txt|grep 'dear'| cut -d' ' -f5| wc -m"
   ]
  },
  {
   "cell_type": "code",
   "execution_count": 12,
   "metadata": {},
   "outputs": [],
   "source": [
    "sed s/'EGEUS'/'dad'/g shakespeare-midsummer-16.txt >midsummer_dad.txt"
   ]
  },
  {
   "cell_type": "code",
   "execution_count": 13,
   "metadata": {},
   "outputs": [
    {
     "name": "stdout",
     "output_type": "stream",
     "text": [
      "75\n"
     ]
    }
   ],
   "source": [
    "grep 'dad' midsummer_dad.txt | wc -w"
   ]
  },
  {
   "cell_type": "markdown",
   "metadata": {},
   "source": [
    "## Problem 2\n",
    "\n",
    "## 2.1\n",
    "Briefly describe the workflow of modifying files in your git repository and adding them  as a new commit. What command is used to transfer your latest git changes to the GitLab repository. "
   ]
  },
  {
   "cell_type": "markdown",
   "metadata": {},
   "source": [
    "Workflow:\n",
    "#git add :to stage files you have newly created or modified for the next commit to the index\n",
    "#git commit:creates a snapshot of the repo as it is staged in the index\n",
    "#git push:will move the snapshot and the repo info to the remote repo on our GitLab server.transfer your latest git changes to the GitLab repository."
   ]
  },
  {
   "cell_type": "markdown",
   "metadata": {},
   "source": [
    "## 2.2\n",
    "1. Create a branch on your repository called `assign1p2`, switch to that branch and add a file called `this_is_a_file_on_my_branch.txt` with the content `Hello World!`. Make sure your branch is pushed to the remote so that it is available on the GitLab server. Once you are done switch back to the master branch and continue there. \n",
    "2. At this point you should still be in the `Assignment.1` folder and you should be on the master branch. Redirect the output of the `git status` command into the file `git_status_A1P2.txt` and add that file to the repository."
   ]
  },
  {
   "cell_type": "markdown",
   "metadata": {},
   "source": [
    "#### Solution"
   ]
  },
  {
   "cell_type": "markdown",
   "metadata": {},
   "source": []
  },
  {
   "cell_type": "code",
   "execution_count": 2,
   "metadata": {},
   "outputs": [
    {
     "name": "stdout",
     "output_type": "stream",
     "text": [
      "/home/user/mp248/Assignment.1\n"
     ]
    }
   ],
   "source": [
    "pwd"
   ]
  },
  {
   "cell_type": "code",
   "execution_count": 1,
   "metadata": {},
   "outputs": [],
   "source": [
    "cd"
   ]
  },
  {
   "cell_type": "code",
   "execution_count": 2,
   "metadata": {},
   "outputs": [],
   "source": [
    "cd mp248"
   ]
  },
  {
   "cell_type": "code",
   "execution_count": 3,
   "metadata": {},
   "outputs": [
    {
     "name": "stdout",
     "output_type": "stream",
     "text": [
      "Switched to a new branch 'assign1p2'\n"
     ]
    }
   ],
   "source": [
    "git checkout -b assign1p2"
   ]
  },
  {
   "cell_type": "code",
   "execution_count": 4,
   "metadata": {},
   "outputs": [
    {
     "name": "stdout",
     "output_type": "stream",
     "text": [
      "* assign1p2\n",
      "  master\n"
     ]
    }
   ],
   "source": [
    "git branch "
   ]
  },
  {
   "cell_type": "code",
   "execution_count": 5,
   "metadata": {},
   "outputs": [],
   "source": [
    "touch this_is_a_file_on_my_branch.txt"
   ]
  },
  {
   "cell_type": "code",
   "execution_count": 6,
   "metadata": {},
   "outputs": [],
   "source": [
    "git add this_is_a_file_on_my_branch.txt"
   ]
  },
  {
   "cell_type": "code",
   "execution_count": 7,
   "metadata": {},
   "outputs": [
    {
     "name": "stdout",
     "output_type": "stream",
     "text": [
      "[assign1p2 63369be] add to my branch\n",
      " 1 file changed, 1 deletion(-)\n"
     ]
    }
   ],
   "source": [
    "git commit this_is_a_file_on_my_branch.txt -m'add to my branch'"
   ]
  },
  {
   "cell_type": "code",
   "execution_count": 8,
   "metadata": {},
   "outputs": [
    {
     "name": "stdout",
     "output_type": "stream",
     "text": [
      "Counting objects: 6, done.\n",
      "Delta compression using up to 16 threads.\n",
      "Compressing objects: 100% (5/5), done.\n",
      "Writing objects: 100% (6/6), 655 bytes | 655.00 KiB/s, done.\n",
      "Total 6 (delta 2), reused 0 (delta 0)\n",
      "remote: \n",
      "remote: To create a merge request for assign1p2, visit:        \n",
      "remote:   http://206-12-89-142.cloud.computecanada.ca/ying/mp248/merge_requests/new?merge_request%5Bsource_branch%5D=assign1p2        \n",
      "remote: \n",
      "To 206-12-89-142.cloud.computecanada.ca:ying/mp248.git\n",
      " * [new branch]      assign1p2 -> assign1p2\n",
      "Branch 'assign1p2' set up to track remote branch 'assign1p2' from 'origin'.\n"
     ]
    }
   ],
   "source": [
    "git push -u origin assign1p2"
   ]
  },
  {
   "cell_type": "code",
   "execution_count": 9,
   "metadata": {},
   "outputs": [
    {
     "name": "stdout",
     "output_type": "stream",
     "text": [
      "Switched to branch 'master'\n",
      "Your branch is ahead of 'origin/master' by 2 commits.\n",
      "  (use \"git push\" to publish your local commits)\n"
     ]
    }
   ],
   "source": [
    "git checkout master"
   ]
  },
  {
   "cell_type": "code",
   "execution_count": 10,
   "metadata": {},
   "outputs": [],
   "source": [
    "cd Assignment.1"
   ]
  },
  {
   "cell_type": "code",
   "execution_count": 11,
   "metadata": {},
   "outputs": [],
   "source": [
    "git status >git_status_A1P2.txt"
   ]
  },
  {
   "cell_type": "code",
   "execution_count": null,
   "metadata": {},
   "outputs": [],
   "source": []
  }
 ],
 "metadata": {
  "kernelspec": {
   "display_name": "Bash",
   "language": "bash",
   "name": "bash"
  },
  "language_info": {
   "codemirror_mode": "shell",
   "file_extension": ".sh",
   "mimetype": "text/x-sh",
   "name": "bash"
  }
 },
 "nbformat": 4,
 "nbformat_minor": 2
}
